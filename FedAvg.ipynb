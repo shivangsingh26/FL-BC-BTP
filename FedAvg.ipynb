{
  "nbformat": 4,
  "nbformat_minor": 0,
  "metadata": {
    "colab": {
      "provenance": [],
      "authorship_tag": "ABX9TyOARo3U6uKJUUVjbNoHoJiO",
      "include_colab_link": true
    },
    "kernelspec": {
      "name": "python3",
      "display_name": "Python 3"
    },
    "language_info": {
      "name": "python"
    }
  },
  "cells": [
    {
      "cell_type": "markdown",
      "metadata": {
        "id": "view-in-github",
        "colab_type": "text"
      },
      "source": [
        "<a href=\"https://colab.research.google.com/github/shivangsingh26/FL-BC-BTP/blob/master/FedAvg.ipynb\" target=\"_parent\"><img src=\"https://colab.research.google.com/assets/colab-badge.svg\" alt=\"Open In Colab\"/></a>"
      ]
    },
    {
      "cell_type": "code",
      "execution_count": null,
      "metadata": {
        "colab": {
          "base_uri": "https://localhost:8080/"
        },
        "id": "Of7VjkSKGq9N",
        "outputId": "9a398f76-c056-45db-9394-49af9167cde9"
      },
      "outputs": [
        {
          "output_type": "stream",
          "name": "stdout",
          "text": [
            "Requirement already satisfied: tensorflow in /usr/local/lib/python3.10/dist-packages (2.15.0)\n",
            "Collecting federated\n",
            "  Downloading federated-0.0.1-py3-none-any.whl (2.2 kB)\n",
            "Requirement already satisfied: absl-py>=1.0.0 in /usr/local/lib/python3.10/dist-packages (from tensorflow) (1.4.0)\n",
            "Requirement already satisfied: astunparse>=1.6.0 in /usr/local/lib/python3.10/dist-packages (from tensorflow) (1.6.3)\n",
            "Requirement already satisfied: flatbuffers>=23.5.26 in /usr/local/lib/python3.10/dist-packages (from tensorflow) (24.3.25)\n",
            "Requirement already satisfied: gast!=0.5.0,!=0.5.1,!=0.5.2,>=0.2.1 in /usr/local/lib/python3.10/dist-packages (from tensorflow) (0.5.4)\n",
            "Requirement already satisfied: google-pasta>=0.1.1 in /usr/local/lib/python3.10/dist-packages (from tensorflow) (0.2.0)\n",
            "Requirement already satisfied: h5py>=2.9.0 in /usr/local/lib/python3.10/dist-packages (from tensorflow) (3.9.0)\n",
            "Requirement already satisfied: libclang>=13.0.0 in /usr/local/lib/python3.10/dist-packages (from tensorflow) (18.1.1)\n",
            "Requirement already satisfied: ml-dtypes~=0.2.0 in /usr/local/lib/python3.10/dist-packages (from tensorflow) (0.2.0)\n",
            "Requirement already satisfied: numpy<2.0.0,>=1.23.5 in /usr/local/lib/python3.10/dist-packages (from tensorflow) (1.25.2)\n",
            "Requirement already satisfied: opt-einsum>=2.3.2 in /usr/local/lib/python3.10/dist-packages (from tensorflow) (3.3.0)\n",
            "Requirement already satisfied: packaging in /usr/local/lib/python3.10/dist-packages (from tensorflow) (24.1)\n",
            "Requirement already satisfied: protobuf!=4.21.0,!=4.21.1,!=4.21.2,!=4.21.3,!=4.21.4,!=4.21.5,<5.0.0dev,>=3.20.3 in /usr/local/lib/python3.10/dist-packages (from tensorflow) (3.20.3)\n",
            "Requirement already satisfied: setuptools in /usr/local/lib/python3.10/dist-packages (from tensorflow) (67.7.2)\n",
            "Requirement already satisfied: six>=1.12.0 in /usr/local/lib/python3.10/dist-packages (from tensorflow) (1.16.0)\n",
            "Requirement already satisfied: termcolor>=1.1.0 in /usr/local/lib/python3.10/dist-packages (from tensorflow) (2.4.0)\n",
            "Requirement already satisfied: typing-extensions>=3.6.6 in /usr/local/lib/python3.10/dist-packages (from tensorflow) (4.12.2)\n",
            "Requirement already satisfied: wrapt<1.15,>=1.11.0 in /usr/local/lib/python3.10/dist-packages (from tensorflow) (1.14.1)\n",
            "Requirement already satisfied: tensorflow-io-gcs-filesystem>=0.23.1 in /usr/local/lib/python3.10/dist-packages (from tensorflow) (0.37.0)\n",
            "Requirement already satisfied: grpcio<2.0,>=1.24.3 in /usr/local/lib/python3.10/dist-packages (from tensorflow) (1.64.1)\n",
            "Requirement already satisfied: tensorboard<2.16,>=2.15 in /usr/local/lib/python3.10/dist-packages (from tensorflow) (2.15.2)\n",
            "Requirement already satisfied: tensorflow-estimator<2.16,>=2.15.0 in /usr/local/lib/python3.10/dist-packages (from tensorflow) (2.15.0)\n",
            "Requirement already satisfied: keras<2.16,>=2.15.0 in /usr/local/lib/python3.10/dist-packages (from tensorflow) (2.15.0)\n",
            "Requirement already satisfied: wheel<1.0,>=0.23.0 in /usr/local/lib/python3.10/dist-packages (from astunparse>=1.6.0->tensorflow) (0.43.0)\n",
            "Requirement already satisfied: google-auth<3,>=1.6.3 in /usr/local/lib/python3.10/dist-packages (from tensorboard<2.16,>=2.15->tensorflow) (2.27.0)\n",
            "Requirement already satisfied: google-auth-oauthlib<2,>=0.5 in /usr/local/lib/python3.10/dist-packages (from tensorboard<2.16,>=2.15->tensorflow) (1.2.0)\n",
            "Requirement already satisfied: markdown>=2.6.8 in /usr/local/lib/python3.10/dist-packages (from tensorboard<2.16,>=2.15->tensorflow) (3.6)\n",
            "Requirement already satisfied: requests<3,>=2.21.0 in /usr/local/lib/python3.10/dist-packages (from tensorboard<2.16,>=2.15->tensorflow) (2.31.0)\n",
            "Requirement already satisfied: tensorboard-data-server<0.8.0,>=0.7.0 in /usr/local/lib/python3.10/dist-packages (from tensorboard<2.16,>=2.15->tensorflow) (0.7.2)\n",
            "Requirement already satisfied: werkzeug>=1.0.1 in /usr/local/lib/python3.10/dist-packages (from tensorboard<2.16,>=2.15->tensorflow) (3.0.3)\n",
            "Requirement already satisfied: cachetools<6.0,>=2.0.0 in /usr/local/lib/python3.10/dist-packages (from google-auth<3,>=1.6.3->tensorboard<2.16,>=2.15->tensorflow) (5.3.3)\n",
            "Requirement already satisfied: pyasn1-modules>=0.2.1 in /usr/local/lib/python3.10/dist-packages (from google-auth<3,>=1.6.3->tensorboard<2.16,>=2.15->tensorflow) (0.4.0)\n",
            "Requirement already satisfied: rsa<5,>=3.1.4 in /usr/local/lib/python3.10/dist-packages (from google-auth<3,>=1.6.3->tensorboard<2.16,>=2.15->tensorflow) (4.9)\n",
            "Requirement already satisfied: requests-oauthlib>=0.7.0 in /usr/local/lib/python3.10/dist-packages (from google-auth-oauthlib<2,>=0.5->tensorboard<2.16,>=2.15->tensorflow) (1.3.1)\n",
            "Requirement already satisfied: charset-normalizer<4,>=2 in /usr/local/lib/python3.10/dist-packages (from requests<3,>=2.21.0->tensorboard<2.16,>=2.15->tensorflow) (3.3.2)\n",
            "Requirement already satisfied: idna<4,>=2.5 in /usr/local/lib/python3.10/dist-packages (from requests<3,>=2.21.0->tensorboard<2.16,>=2.15->tensorflow) (3.7)\n",
            "Requirement already satisfied: urllib3<3,>=1.21.1 in /usr/local/lib/python3.10/dist-packages (from requests<3,>=2.21.0->tensorboard<2.16,>=2.15->tensorflow) (2.0.7)\n",
            "Requirement already satisfied: certifi>=2017.4.17 in /usr/local/lib/python3.10/dist-packages (from requests<3,>=2.21.0->tensorboard<2.16,>=2.15->tensorflow) (2024.6.2)\n",
            "Requirement already satisfied: MarkupSafe>=2.1.1 in /usr/local/lib/python3.10/dist-packages (from werkzeug>=1.0.1->tensorboard<2.16,>=2.15->tensorflow) (2.1.5)\n",
            "Requirement already satisfied: pyasn1<0.7.0,>=0.4.6 in /usr/local/lib/python3.10/dist-packages (from pyasn1-modules>=0.2.1->google-auth<3,>=1.6.3->tensorboard<2.16,>=2.15->tensorflow) (0.6.0)\n",
            "Requirement already satisfied: oauthlib>=3.0.0 in /usr/local/lib/python3.10/dist-packages (from requests-oauthlib>=0.7.0->google-auth-oauthlib<2,>=0.5->tensorboard<2.16,>=2.15->tensorflow) (3.2.2)\n",
            "Installing collected packages: federated\n",
            "Successfully installed federated-0.0.1\n",
            "Requirement already satisfied: gdown in /usr/local/lib/python3.10/dist-packages (5.1.0)\n",
            "Requirement already satisfied: beautifulsoup4 in /usr/local/lib/python3.10/dist-packages (from gdown) (4.12.3)\n",
            "Requirement already satisfied: filelock in /usr/local/lib/python3.10/dist-packages (from gdown) (3.14.0)\n",
            "Requirement already satisfied: requests[socks] in /usr/local/lib/python3.10/dist-packages (from gdown) (2.31.0)\n",
            "Requirement already satisfied: tqdm in /usr/local/lib/python3.10/dist-packages (from gdown) (4.66.4)\n",
            "Requirement already satisfied: soupsieve>1.2 in /usr/local/lib/python3.10/dist-packages (from beautifulsoup4->gdown) (2.5)\n",
            "Requirement already satisfied: charset-normalizer<4,>=2 in /usr/local/lib/python3.10/dist-packages (from requests[socks]->gdown) (3.3.2)\n",
            "Requirement already satisfied: idna<4,>=2.5 in /usr/local/lib/python3.10/dist-packages (from requests[socks]->gdown) (3.7)\n",
            "Requirement already satisfied: urllib3<3,>=1.21.1 in /usr/local/lib/python3.10/dist-packages (from requests[socks]->gdown) (2.0.7)\n",
            "Requirement already satisfied: certifi>=2017.4.17 in /usr/local/lib/python3.10/dist-packages (from requests[socks]->gdown) (2024.6.2)\n",
            "Requirement already satisfied: PySocks!=1.5.7,>=1.5.6 in /usr/local/lib/python3.10/dist-packages (from requests[socks]->gdown) (1.7.1)\n"
          ]
        }
      ],
      "source": [
        "!pip install tensorflow federated\n",
        "!pip install gdown"
      ]
    },
    {
      "cell_type": "code",
      "source": [
        "from google.colab import drive\n",
        "drive.mount('/content/drive')\n",
        "\n",
        "import os\n",
        "import zipfile\n",
        "\n",
        "# Unzip the datasets\n",
        "zip_path = '/content/drive/My Drive/BTP/non_iid.zip'\n",
        "unzip_path = '/content/datasets'\n",
        "with zipfile.ZipFile(zip_path, 'r') as zip_ref:\n",
        "    zip_ref.extractall(unzip_path)"
      ],
      "metadata": {
        "colab": {
          "base_uri": "https://localhost:8080/"
        },
        "id": "3y5DhZrrH5ex",
        "outputId": "6316fa89-c3cd-4c00-9594-6cca7f030d95"
      },
      "execution_count": null,
      "outputs": [
        {
          "output_type": "stream",
          "name": "stdout",
          "text": [
            "Mounted at /content/drive\n"
          ]
        }
      ]
    },
    {
      "cell_type": "code",
      "source": [
        "\n",
        "import tensorflow as tf\n",
        "from tensorflow.keras.preprocessing.image import ImageDataGenerator\n",
        "\n",
        "def load_data(client_path):\n",
        "    train_datagen = ImageDataGenerator(rescale=1./255)\n",
        "    test_datagen = ImageDataGenerator(rescale=1./255)\n",
        "\n",
        "    train_generator = train_datagen.flow_from_directory(\n",
        "        os.path.join(client_path, 'train'),\n",
        "        target_size=(224, 224),\n",
        "        batch_size=32,\n",
        "        class_mode='categorical'\n",
        "    )\n",
        "\n",
        "    test_generator = test_datagen.flow_from_directory(\n",
        "        os.path.join(client_path, 'test'),\n",
        "        target_size=(224, 224),\n",
        "        batch_size=32,\n",
        "        class_mode='categorical'\n",
        "    )\n",
        "\n",
        "    return train_generator, test_generator\n",
        "\n",
        "clients = ['/content/datasets/Non-iid datasets/non_iid_subset_1','/content/datasets/Non-iid datasets/non_iid_subset_2','/content/datasets/Non-iid datasets/non_iid_subset_3','/content/datasets/Non-iid datasets/non_iid_subset_4',]\n",
        "data_paths = [os.path.join(unzip_path, client) for client in clients]\n",
        "\n",
        "train_generators = []\n",
        "test_generators = []\n",
        "for path in data_paths:\n",
        "    train_gen, test_gen = load_data(path)\n",
        "    train_generators.append(train_gen)\n",
        "    test_generators.append(test_gen)\n"
      ],
      "metadata": {
        "colab": {
          "base_uri": "https://localhost:8080/"
        },
        "id": "i9sYaK3pH-5E",
        "outputId": "9f89ebbf-c29e-4359-a5e2-9c06bf30d9c4"
      },
      "execution_count": null,
      "outputs": [
        {
          "output_type": "stream",
          "name": "stdout",
          "text": [
            "Found 19012 images belonging to 19 classes.\n",
            "Found 4748 images belonging to 19 classes.\n",
            "Found 19185 images belonging to 19 classes.\n",
            "Found 4791 images belonging to 19 classes.\n",
            "Found 19703 images belonging to 19 classes.\n",
            "Found 4921 images belonging to 19 classes.\n",
            "Found 19530 images belonging to 19 classes.\n",
            "Found 4878 images belonging to 19 classes.\n"
          ]
        }
      ]
    },
    {
      "cell_type": "code",
      "source": [
        "def create_model(num_classes=19):\n",
        "    base_model = tf.keras.applications.MobileNetV2(input_shape=(224, 224, 3),\n",
        "                                                   include_top=False,\n",
        "                                                   weights='imagenet')\n",
        "    base_model.trainable = False\n",
        "\n",
        "    model = tf.keras.Sequential([\n",
        "        base_model,\n",
        "        tf.keras.layers.GlobalAveragePooling2D(),\n",
        "        tf.keras.layers.Dense(1024, activation='relu'),\n",
        "        tf.keras.layers.Dense(num_classes, activation='softmax')\n",
        "    ])\n",
        "\n",
        "    model.compile(optimizer='adam',\n",
        "                  loss='categorical_crossentropy',\n",
        "                  metrics=['accuracy'])\n",
        "\n",
        "    return model\n"
      ],
      "metadata": {
        "id": "32I33xwfIs-7"
      },
      "execution_count": null,
      "outputs": []
    },
    {
      "cell_type": "code",
      "source": [
        "import numpy as np\n",
        "\n",
        "# Define number of communication rounds\n",
        "num_rounds = 5\n",
        "\n",
        "# Initialize models for each client\n",
        "client_models = [create_model(num_classes=19) for _ in range(4)]\n",
        "\n",
        "# Function to aggregate model weights\n",
        "def fed_avg(models):\n",
        "    avg_model = create_model(num_classes=19)  # Use 19 classes for the aggregated model\n",
        "    avg_weights = [np.zeros_like(weights) for weights in avg_model.get_weights()]\n",
        "\n",
        "    # Sum the weights from all models\n",
        "    for model in models:\n",
        "        model_weights = model.get_weights()\n",
        "        for i in range(len(avg_weights)):\n",
        "            avg_weights[i] += model_weights[i]\n",
        "\n",
        "    # Average the weights\n",
        "    avg_weights = [weight / len(models) for weight in avg_weights]\n",
        "    avg_model.set_weights(avg_weights)\n",
        "\n",
        "    return avg_model\n",
        "\n",
        "for round_num in range(num_rounds):\n",
        "    print(f'Round {round_num+1}/{num_rounds}')\n",
        "\n",
        "    # Train each client model on its local data\n",
        "    for i in range(4):\n",
        "        print(f'Training client {i+1}')\n",
        "        client_models[i].fit(train_generators[i], epochs=1, validation_data=test_generators[i])\n",
        "\n",
        "    # Aggregate the client models\n",
        "    global_model = fed_avg(client_models)\n",
        "\n",
        "    # Update client models with the aggregated global model weights\n",
        "    for i in range(4):\n",
        "        client_models[i].set_weights(global_model.get_weights())\n"
      ],
      "metadata": {
        "colab": {
          "base_uri": "https://localhost:8080/"
        },
        "id": "ABfGt0OWIyGx",
        "outputId": "3be5127d-bd6f-4ef0-e996-0b6e2ce4f975"
      },
      "execution_count": null,
      "outputs": [
        {
          "output_type": "stream",
          "name": "stdout",
          "text": [
            "Downloading data from https://storage.googleapis.com/tensorflow/keras-applications/mobilenet_v2/mobilenet_v2_weights_tf_dim_ordering_tf_kernels_1.0_224_no_top.h5\n",
            "9406464/9406464 [==============================] - 0s 0us/step\n",
            "Round 1/5\n",
            "Training client 1\n",
            "595/595 [==============================] - 99s 155ms/step - loss: 0.7760 - accuracy: 0.7780 - val_loss: 0.2311 - val_accuracy: 0.9404\n",
            "Training client 2\n",
            "600/600 [==============================] - 97s 156ms/step - loss: 0.5699 - accuracy: 0.8396 - val_loss: 0.1738 - val_accuracy: 0.9497\n",
            "Training client 3\n",
            "616/616 [==============================] - 99s 155ms/step - loss: 0.7229 - accuracy: 0.7917 - val_loss: 0.2200 - val_accuracy: 0.9340\n",
            "Training client 4\n",
            "611/611 [==============================] - 95s 149ms/step - loss: 0.6625 - accuracy: 0.8072 - val_loss: 0.1853 - val_accuracy: 0.9506\n",
            "Round 2/5\n",
            "Training client 1\n",
            "595/595 [==============================] - 88s 148ms/step - loss: 0.6971 - accuracy: 0.7981 - val_loss: 0.2742 - val_accuracy: 0.9221\n",
            "Training client 2\n",
            "600/600 [==============================] - 90s 149ms/step - loss: 0.5160 - accuracy: 0.8496 - val_loss: 0.1785 - val_accuracy: 0.9493\n",
            "Training client 3\n",
            "616/616 [==============================] - 91s 147ms/step - loss: 0.6532 - accuracy: 0.8095 - val_loss: 0.2365 - val_accuracy: 0.9287\n",
            "Training client 4\n",
            "611/611 [==============================] - 93s 152ms/step - loss: 0.6303 - accuracy: 0.8163 - val_loss: 0.1745 - val_accuracy: 0.9576\n",
            "Round 3/5\n",
            "Training client 1\n",
            "595/595 [==============================] - 90s 151ms/step - loss: 0.4750 - accuracy: 0.8639 - val_loss: 0.2273 - val_accuracy: 0.9316\n",
            "Training client 2\n",
            "600/600 [==============================] - 90s 150ms/step - loss: 0.3403 - accuracy: 0.9052 - val_loss: 0.1245 - val_accuracy: 0.9676\n",
            "Training client 3\n",
            "616/616 [==============================] - 95s 154ms/step - loss: 0.4513 - accuracy: 0.8693 - val_loss: 0.1996 - val_accuracy: 0.9417\n",
            "Training client 4\n",
            "611/611 [==============================] - 97s 158ms/step - loss: 0.4464 - accuracy: 0.8709 - val_loss: 0.1776 - val_accuracy: 0.9506\n",
            "Round 4/5\n",
            "Training client 1\n",
            "595/595 [==============================] - 89s 150ms/step - loss: 0.4108 - accuracy: 0.8823 - val_loss: 0.2325 - val_accuracy: 0.9290\n",
            "Training client 2\n",
            "600/600 [==============================] - 92s 154ms/step - loss: 0.2877 - accuracy: 0.9183 - val_loss: 0.0934 - val_accuracy: 0.9775\n",
            "Training client 3\n",
            "616/616 [==============================] - 95s 154ms/step - loss: 0.3675 - accuracy: 0.8937 - val_loss: 0.1381 - val_accuracy: 0.9648\n",
            "Training client 4\n",
            "611/611 [==============================] - 93s 153ms/step - loss: 0.3528 - accuracy: 0.8985 - val_loss: 0.1382 - val_accuracy: 0.9662\n",
            "Round 5/5\n",
            "Training client 1\n",
            "595/595 [==============================] - 91s 153ms/step - loss: 0.3348 - accuracy: 0.9056 - val_loss: 0.1583 - val_accuracy: 0.9551\n",
            "Training client 2\n",
            "600/600 [==============================] - 92s 153ms/step - loss: 0.2334 - accuracy: 0.9343 - val_loss: 0.1004 - val_accuracy: 0.9754\n",
            "Training client 3\n",
            "616/616 [==============================] - 93s 150ms/step - loss: 0.3120 - accuracy: 0.9117 - val_loss: 0.1532 - val_accuracy: 0.9600\n",
            "Training client 4\n",
            "611/611 [==============================] - 91s 149ms/step - loss: 0.2972 - accuracy: 0.9153 - val_loss: 0.1333 - val_accuracy: 0.9645\n"
          ]
        }
      ]
    },
    {
      "cell_type": "markdown",
      "source": [],
      "metadata": {
        "id": "VuagKPveSaSy"
      }
    },
    {
      "cell_type": "code",
      "source": [
        "for i in range(4):\n",
        "    loss, accuracy = global_model.evaluate(test_generators[i])\n",
        "    print(f'Client {i+1} - Loss: {loss}, Accuracy: {accuracy}')"
      ],
      "metadata": {
        "colab": {
          "base_uri": "https://localhost:8080/"
        },
        "id": "Lj1Kab6AI1fJ",
        "outputId": "33b890f9-d0d8-44bd-b303-2be63ce81269"
      },
      "execution_count": null,
      "outputs": [
        {
          "output_type": "stream",
          "name": "stdout",
          "text": [
            "149/149 [==============================] - 19s 116ms/step - loss: 1.7646 - accuracy: 0.4183\n",
            "Client 1 - Loss: 1.7645994424819946, Accuracy: 0.4182813763618469\n",
            "150/150 [==============================] - 18s 123ms/step - loss: 1.8661 - accuracy: 0.4475\n",
            "Client 2 - Loss: 1.866053819656372, Accuracy: 0.44750574231147766\n",
            "154/154 [==============================] - 18s 118ms/step - loss: 1.9093 - accuracy: 0.4107\n",
            "Client 3 - Loss: 1.9092901945114136, Accuracy: 0.4106888771057129\n",
            "153/153 [==============================] - 11s 69ms/step - loss: 1.8952 - accuracy: 0.4428\n",
            "Client 4 - Loss: 1.8951634168624878, Accuracy: 0.4428044259548187\n"
          ]
        }
      ]
    },
    {
      "cell_type": "code",
      "source": [],
      "metadata": {
        "id": "VbuWDsDsI_ZS"
      },
      "execution_count": null,
      "outputs": []
    }
  ]
}