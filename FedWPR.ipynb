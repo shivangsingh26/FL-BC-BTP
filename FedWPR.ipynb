{
  "cells": [
    {
      "cell_type": "markdown",
      "metadata": {
        "id": "view-in-github",
        "colab_type": "text"
      },
      "source": [
        "<a href=\"https://colab.research.google.com/github/shivangsingh26/FL-BC-BTP/blob/master/FedWPR.ipynb\" target=\"_parent\"><img src=\"https://colab.research.google.com/assets/colab-badge.svg\" alt=\"Open In Colab\"/></a>"
      ]
    },
    {
      "cell_type": "code",
      "execution_count": null,
      "metadata": {
        "colab": {
          "base_uri": "https://localhost:8080/"
        },
        "id": "Y91GcZt3Jmww",
        "outputId": "73844d3f-fee4-493b-8613-2adfc4252b8b"
      },
      "outputs": [
        {
          "name": "stdout",
          "output_type": "stream",
          "text": [
            "Requirement already satisfied: tensorflow in /usr/local/lib/python3.10/dist-packages (2.15.0)\n",
            "Collecting federated\n",
            "  Downloading federated-0.0.1-py3-none-any.whl (2.2 kB)\n",
            "Requirement already satisfied: absl-py>=1.0.0 in /usr/local/lib/python3.10/dist-packages (from tensorflow) (1.4.0)\n",
            "Requirement already satisfied: astunparse>=1.6.0 in /usr/local/lib/python3.10/dist-packages (from tensorflow) (1.6.3)\n",
            "Requirement already satisfied: flatbuffers>=23.5.26 in /usr/local/lib/python3.10/dist-packages (from tensorflow) (24.3.25)\n",
            "Requirement already satisfied: gast!=0.5.0,!=0.5.1,!=0.5.2,>=0.2.1 in /usr/local/lib/python3.10/dist-packages (from tensorflow) (0.5.4)\n",
            "Requirement already satisfied: google-pasta>=0.1.1 in /usr/local/lib/python3.10/dist-packages (from tensorflow) (0.2.0)\n",
            "Requirement already satisfied: h5py>=2.9.0 in /usr/local/lib/python3.10/dist-packages (from tensorflow) (3.9.0)\n",
            "Requirement already satisfied: libclang>=13.0.0 in /usr/local/lib/python3.10/dist-packages (from tensorflow) (18.1.1)\n",
            "Requirement already satisfied: ml-dtypes~=0.2.0 in /usr/local/lib/python3.10/dist-packages (from tensorflow) (0.2.0)\n",
            "Requirement already satisfied: numpy<2.0.0,>=1.23.5 in /usr/local/lib/python3.10/dist-packages (from tensorflow) (1.25.2)\n",
            "Requirement already satisfied: opt-einsum>=2.3.2 in /usr/local/lib/python3.10/dist-packages (from tensorflow) (3.3.0)\n",
            "Requirement already satisfied: packaging in /usr/local/lib/python3.10/dist-packages (from tensorflow) (24.1)\n",
            "Requirement already satisfied: protobuf!=4.21.0,!=4.21.1,!=4.21.2,!=4.21.3,!=4.21.4,!=4.21.5,<5.0.0dev,>=3.20.3 in /usr/local/lib/python3.10/dist-packages (from tensorflow) (3.20.3)\n",
            "Requirement already satisfied: setuptools in /usr/local/lib/python3.10/dist-packages (from tensorflow) (67.7.2)\n",
            "Requirement already satisfied: six>=1.12.0 in /usr/local/lib/python3.10/dist-packages (from tensorflow) (1.16.0)\n",
            "Requirement already satisfied: termcolor>=1.1.0 in /usr/local/lib/python3.10/dist-packages (from tensorflow) (2.4.0)\n",
            "Requirement already satisfied: typing-extensions>=3.6.6 in /usr/local/lib/python3.10/dist-packages (from tensorflow) (4.12.2)\n",
            "Requirement already satisfied: wrapt<1.15,>=1.11.0 in /usr/local/lib/python3.10/dist-packages (from tensorflow) (1.14.1)\n",
            "Requirement already satisfied: tensorflow-io-gcs-filesystem>=0.23.1 in /usr/local/lib/python3.10/dist-packages (from tensorflow) (0.37.0)\n",
            "Requirement already satisfied: grpcio<2.0,>=1.24.3 in /usr/local/lib/python3.10/dist-packages (from tensorflow) (1.64.1)\n",
            "Requirement already satisfied: tensorboard<2.16,>=2.15 in /usr/local/lib/python3.10/dist-packages (from tensorflow) (2.15.2)\n",
            "Requirement already satisfied: tensorflow-estimator<2.16,>=2.15.0 in /usr/local/lib/python3.10/dist-packages (from tensorflow) (2.15.0)\n",
            "Requirement already satisfied: keras<2.16,>=2.15.0 in /usr/local/lib/python3.10/dist-packages (from tensorflow) (2.15.0)\n",
            "Requirement already satisfied: wheel<1.0,>=0.23.0 in /usr/local/lib/python3.10/dist-packages (from astunparse>=1.6.0->tensorflow) (0.43.0)\n",
            "Requirement already satisfied: google-auth<3,>=1.6.3 in /usr/local/lib/python3.10/dist-packages (from tensorboard<2.16,>=2.15->tensorflow) (2.27.0)\n",
            "Requirement already satisfied: google-auth-oauthlib<2,>=0.5 in /usr/local/lib/python3.10/dist-packages (from tensorboard<2.16,>=2.15->tensorflow) (1.2.0)\n",
            "Requirement already satisfied: markdown>=2.6.8 in /usr/local/lib/python3.10/dist-packages (from tensorboard<2.16,>=2.15->tensorflow) (3.6)\n",
            "Requirement already satisfied: requests<3,>=2.21.0 in /usr/local/lib/python3.10/dist-packages (from tensorboard<2.16,>=2.15->tensorflow) (2.31.0)\n",
            "Requirement already satisfied: tensorboard-data-server<0.8.0,>=0.7.0 in /usr/local/lib/python3.10/dist-packages (from tensorboard<2.16,>=2.15->tensorflow) (0.7.2)\n",
            "Requirement already satisfied: werkzeug>=1.0.1 in /usr/local/lib/python3.10/dist-packages (from tensorboard<2.16,>=2.15->tensorflow) (3.0.3)\n",
            "Requirement already satisfied: cachetools<6.0,>=2.0.0 in /usr/local/lib/python3.10/dist-packages (from google-auth<3,>=1.6.3->tensorboard<2.16,>=2.15->tensorflow) (5.3.3)\n",
            "Requirement already satisfied: pyasn1-modules>=0.2.1 in /usr/local/lib/python3.10/dist-packages (from google-auth<3,>=1.6.3->tensorboard<2.16,>=2.15->tensorflow) (0.4.0)\n",
            "Requirement already satisfied: rsa<5,>=3.1.4 in /usr/local/lib/python3.10/dist-packages (from google-auth<3,>=1.6.3->tensorboard<2.16,>=2.15->tensorflow) (4.9)\n",
            "Requirement already satisfied: requests-oauthlib>=0.7.0 in /usr/local/lib/python3.10/dist-packages (from google-auth-oauthlib<2,>=0.5->tensorboard<2.16,>=2.15->tensorflow) (1.3.1)\n",
            "Requirement already satisfied: charset-normalizer<4,>=2 in /usr/local/lib/python3.10/dist-packages (from requests<3,>=2.21.0->tensorboard<2.16,>=2.15->tensorflow) (3.3.2)\n",
            "Requirement already satisfied: idna<4,>=2.5 in /usr/local/lib/python3.10/dist-packages (from requests<3,>=2.21.0->tensorboard<2.16,>=2.15->tensorflow) (3.7)\n",
            "Requirement already satisfied: urllib3<3,>=1.21.1 in /usr/local/lib/python3.10/dist-packages (from requests<3,>=2.21.0->tensorboard<2.16,>=2.15->tensorflow) (2.0.7)\n",
            "Requirement already satisfied: certifi>=2017.4.17 in /usr/local/lib/python3.10/dist-packages (from requests<3,>=2.21.0->tensorboard<2.16,>=2.15->tensorflow) (2024.6.2)\n",
            "Requirement already satisfied: MarkupSafe>=2.1.1 in /usr/local/lib/python3.10/dist-packages (from werkzeug>=1.0.1->tensorboard<2.16,>=2.15->tensorflow) (2.1.5)\n",
            "Requirement already satisfied: pyasn1<0.7.0,>=0.4.6 in /usr/local/lib/python3.10/dist-packages (from pyasn1-modules>=0.2.1->google-auth<3,>=1.6.3->tensorboard<2.16,>=2.15->tensorflow) (0.6.0)\n",
            "Requirement already satisfied: oauthlib>=3.0.0 in /usr/local/lib/python3.10/dist-packages (from requests-oauthlib>=0.7.0->google-auth-oauthlib<2,>=0.5->tensorboard<2.16,>=2.15->tensorflow) (3.2.2)\n",
            "Installing collected packages: federated\n",
            "Successfully installed federated-0.0.1\n",
            "Requirement already satisfied: gdown in /usr/local/lib/python3.10/dist-packages (5.1.0)\n",
            "Requirement already satisfied: beautifulsoup4 in /usr/local/lib/python3.10/dist-packages (from gdown) (4.12.3)\n",
            "Requirement already satisfied: filelock in /usr/local/lib/python3.10/dist-packages (from gdown) (3.14.0)\n",
            "Requirement already satisfied: requests[socks] in /usr/local/lib/python3.10/dist-packages (from gdown) (2.31.0)\n",
            "Requirement already satisfied: tqdm in /usr/local/lib/python3.10/dist-packages (from gdown) (4.66.4)\n",
            "Requirement already satisfied: soupsieve>1.2 in /usr/local/lib/python3.10/dist-packages (from beautifulsoup4->gdown) (2.5)\n",
            "Requirement already satisfied: charset-normalizer<4,>=2 in /usr/local/lib/python3.10/dist-packages (from requests[socks]->gdown) (3.3.2)\n",
            "Requirement already satisfied: idna<4,>=2.5 in /usr/local/lib/python3.10/dist-packages (from requests[socks]->gdown) (3.7)\n",
            "Requirement already satisfied: urllib3<3,>=1.21.1 in /usr/local/lib/python3.10/dist-packages (from requests[socks]->gdown) (2.0.7)\n",
            "Requirement already satisfied: certifi>=2017.4.17 in /usr/local/lib/python3.10/dist-packages (from requests[socks]->gdown) (2024.6.2)\n",
            "Requirement already satisfied: PySocks!=1.5.7,>=1.5.6 in /usr/local/lib/python3.10/dist-packages (from requests[socks]->gdown) (1.7.1)\n"
          ]
        }
      ],
      "source": [
        "!pip install tensorflow federated\n",
        "!pip install gdown"
      ]
    },
    {
      "cell_type": "code",
      "execution_count": 1,
      "metadata": {
        "colab": {
          "base_uri": "https://localhost:8080/"
        },
        "id": "-bYVUKghKEeP",
        "outputId": "1b31e2b0-2c78-4c96-d650-baf1d0298d02"
      },
      "outputs": [
        {
          "output_type": "stream",
          "name": "stdout",
          "text": [
            "Mounted at /content/drive\n"
          ]
        }
      ],
      "source": [
        "from google.colab import drive\n",
        "drive.mount('/content/drive')\n",
        "\n",
        "import os\n",
        "import zipfile\n",
        "\n",
        "# Unzip the datasets\n",
        "zip_path = '/content/drive/My Drive/BTP.zip'\n",
        "unzip_path = '/content/datasets'\n",
        "with zipfile.ZipFile(zip_path, 'r') as zip_ref:\n",
        "    zip_ref.extractall(unzip_path)\n"
      ]
    },
    {
      "cell_type": "code",
      "execution_count": 2,
      "metadata": {
        "colab": {
          "base_uri": "https://localhost:8080/"
        },
        "id": "qUrFEeapKcTJ",
        "outputId": "f21f858d-4ccd-421d-d9c1-89a2189c2af9"
      },
      "outputs": [
        {
          "output_type": "stream",
          "name": "stdout",
          "text": [
            "Found 19012 images belonging to 19 classes.\n",
            "Found 4748 images belonging to 19 classes.\n",
            "Found 19185 images belonging to 19 classes.\n",
            "Found 4791 images belonging to 19 classes.\n",
            "Found 19703 images belonging to 19 classes.\n",
            "Found 4921 images belonging to 19 classes.\n",
            "Found 19530 images belonging to 19 classes.\n",
            "Found 4878 images belonging to 19 classes.\n"
          ]
        }
      ],
      "source": [
        "import tensorflow as tf\n",
        "from tensorflow.keras.preprocessing.image import ImageDataGenerator\n",
        "\n",
        "# Function to load and preprocess data with augmentation\n",
        "def load_data(client_path):\n",
        "    train_datagen = ImageDataGenerator(\n",
        "        rescale=1./255,\n",
        "        rotation_range=30,\n",
        "        width_shift_range=0.3,\n",
        "        height_shift_range=0.3,\n",
        "        shear_range=0.3,\n",
        "        zoom_range=0.3,\n",
        "        horizontal_flip=True,\n",
        "        fill_mode='nearest'\n",
        "    )\n",
        "    test_datagen = ImageDataGenerator(rescale=1./255)\n",
        "\n",
        "    train_generator = train_datagen.flow_from_directory(\n",
        "        os.path.join(client_path, 'train'),\n",
        "        target_size=(224, 224),\n",
        "        batch_size=32,\n",
        "        class_mode='categorical'\n",
        "    )\n",
        "\n",
        "    test_generator = test_datagen.flow_from_directory(\n",
        "        os.path.join(client_path, 'test'),\n",
        "        target_size=(224, 224),\n",
        "        batch_size=32,\n",
        "        class_mode='categorical'\n",
        "    )\n",
        "\n",
        "    return train_generator, test_generator\n",
        "\n",
        "clients = [\"/content/datasets/Non-iid datasets/non_iid_subset_1\",\"/content/datasets/Non-iid datasets/non_iid_subset_2\",\"/content/datasets/Non-iid datasets/non_iid_subset_3\",\"/content/datasets/Non-iid datasets/non_iid_subset_4\",]\n",
        "data_paths = [os.path.join(unzip_path, client) for client in clients]\n",
        "\n",
        "train_generators = []\n",
        "test_generators = []\n",
        "for path in data_paths:\n",
        "    train_gen, test_gen = load_data(path)\n",
        "    train_generators.append(train_gen)\n",
        "    test_generators.append(test_gen)\n"
      ]
    },
    {
      "cell_type": "code",
      "execution_count": 3,
      "metadata": {
        "id": "25fFqH7-K0_f"
      },
      "outputs": [],
      "source": [
        "def create_model(num_classes=19):\n",
        "    base_model = tf.keras.applications.MobileNetV2(input_shape=(224, 224, 3),\n",
        "                                                   include_top=False,\n",
        "                                                   weights='imagenet')\n",
        "    base_model.trainable = False\n",
        "\n",
        "    model = tf.keras.Sequential([\n",
        "        base_model,\n",
        "        tf.keras.layers.GlobalAveragePooling2D(),\n",
        "        tf.keras.layers.Dense(1024, activation='relu'),\n",
        "        tf.keras.layers.Dropout(0.5),\n",
        "        tf.keras.layers.Dense(num_classes, activation='softmax')\n",
        "    ])\n",
        "\n",
        "    model.compile(optimizer=tf.keras.optimizers.Adam(learning_rate=0.001),\n",
        "                  loss='categorical_crossentropy',\n",
        "                  metrics=['accuracy'])\n",
        "\n",
        "    return model\n"
      ]
    },
    {
      "cell_type": "code",
      "execution_count": null,
      "metadata": {
        "colab": {
          "base_uri": "https://localhost:8080/"
        },
        "id": "fuj1zUnqK4nx",
        "outputId": "683473af-c047-446c-f268-9e6ef1bac94f"
      },
      "outputs": [
        {
          "output_type": "stream",
          "name": "stdout",
          "text": [
            "Evaluating RR = 0.3, epochs = 5\n",
            "Downloading data from https://storage.googleapis.com/tensorflow/keras-applications/mobilenet_v2/mobilenet_v2_weights_tf_dim_ordering_tf_kernels_1.0_224_no_top.h5\n",
            "9406464/9406464 [==============================] - 2s 0us/step\n",
            "Round 1/10\n",
            "Training client 1\n",
            "Epoch 1/5\n",
            "595/595 [==============================] - 322s 526ms/step - loss: 2.5215 - accuracy: 0.2138 - val_loss: 2.2394 - val_accuracy: 0.3317\n",
            "Epoch 2/5\n",
            "595/595 [==============================] - 266s 446ms/step - loss: 2.2101 - accuracy: 0.3029 - val_loss: 1.8453 - val_accuracy: 0.4164\n",
            "Epoch 3/5\n",
            "595/595 [==============================] - 263s 442ms/step - loss: 2.1064 - accuracy: 0.3348 - val_loss: 1.6908 - val_accuracy: 0.4558\n",
            "Epoch 4/5\n",
            "595/595 [==============================] - 262s 440ms/step - loss: 2.0058 - accuracy: 0.3617 - val_loss: 1.5987 - val_accuracy: 0.5065\n",
            "Epoch 5/5\n",
            "595/595 [==============================] - 265s 445ms/step - loss: 1.9645 - accuracy: 0.3811 - val_loss: 1.6173 - val_accuracy: 0.4941\n",
            "Training client 2\n",
            "Epoch 1/5\n",
            "600/600 [==============================] - 328s 539ms/step - loss: 2.3289 - accuracy: 0.2792 - val_loss: 1.6640 - val_accuracy: 0.4519\n",
            "Epoch 2/5\n",
            "600/600 [==============================] - 305s 509ms/step - loss: 1.9579 - accuracy: 0.3738 - val_loss: 1.3952 - val_accuracy: 0.5523\n",
            "Epoch 3/5\n",
            "600/600 [==============================] - 282s 470ms/step - loss: 1.8199 - accuracy: 0.4212 - val_loss: 1.3458 - val_accuracy: 0.5583\n",
            "Epoch 4/5\n",
            "600/600 [==============================] - 269s 448ms/step - loss: 1.7482 - accuracy: 0.4430 - val_loss: 1.1708 - val_accuracy: 0.6272\n",
            "Epoch 5/5\n",
            "600/600 [==============================] - 322s 537ms/step - loss: 1.6850 - accuracy: 0.4579 - val_loss: 1.1236 - val_accuracy: 0.6420\n",
            "Training client 3\n",
            "Epoch 1/5\n",
            "616/616 [==============================] - 369s 593ms/step - loss: 2.4799 - accuracy: 0.2336 - val_loss: 1.9068 - val_accuracy: 0.4152\n",
            "Epoch 2/5\n",
            "616/616 [==============================] - 373s 605ms/step - loss: 2.1480 - accuracy: 0.3202 - val_loss: 1.8261 - val_accuracy: 0.4215\n",
            "Epoch 3/5\n",
            "616/616 [==============================] - 348s 564ms/step - loss: 2.0310 - accuracy: 0.3517 - val_loss: 1.6683 - val_accuracy: 0.4597\n",
            "Epoch 4/5\n",
            "616/616 [==============================] - 332s 539ms/step - loss: 1.9649 - accuracy: 0.3755 - val_loss: 1.5965 - val_accuracy: 0.4765\n",
            "Epoch 5/5\n",
            "616/616 [==============================] - 288s 467ms/step - loss: 1.9042 - accuracy: 0.3969 - val_loss: 1.4709 - val_accuracy: 0.5216\n",
            "Training client 4\n",
            "Epoch 1/5\n",
            "611/611 [==============================] - 363s 588ms/step - loss: 2.4296 - accuracy: 0.2387 - val_loss: 2.0005 - val_accuracy: 0.3542\n",
            "Epoch 2/5\n",
            "611/611 [==============================] - 324s 530ms/step - loss: 2.1040 - accuracy: 0.3286 - val_loss: 1.8447 - val_accuracy: 0.4014\n",
            "Epoch 3/5\n",
            "611/611 [==============================] - 288s 472ms/step - loss: 1.9966 - accuracy: 0.3626 - val_loss: 1.9098 - val_accuracy: 0.3846\n",
            "Epoch 4/5\n",
            "611/611 [==============================] - 273s 447ms/step - loss: 1.9151 - accuracy: 0.3858 - val_loss: 1.5175 - val_accuracy: 0.4998\n",
            "Epoch 5/5\n",
            "611/611 [==============================] - 276s 451ms/step - loss: 1.8787 - accuracy: 0.4013 - val_loss: 1.4264 - val_accuracy: 0.5211\n",
            "Round 2/10\n",
            "Training client 1\n",
            "Epoch 1/5\n",
            "595/595 [==============================] - 333s 560ms/step - loss: 2.9453 - accuracy: 0.0536 - val_loss: 2.9376 - val_accuracy: 0.0545\n",
            "Epoch 2/5\n",
            "595/595 [==============================] - 307s 516ms/step - loss: 2.9372 - accuracy: 0.0485 - val_loss: 2.9363 - val_accuracy: 0.0545\n",
            "Epoch 3/5\n",
            "595/595 [==============================] - 275s 463ms/step - loss: 2.9365 - accuracy: 0.0517 - val_loss: 2.9360 - val_accuracy: 0.0545\n",
            "Epoch 4/5\n",
            "595/595 [==============================] - 267s 448ms/step - loss: 2.9364 - accuracy: 0.0514 - val_loss: 2.9359 - val_accuracy: 0.0545\n",
            "Epoch 5/5\n",
            "595/595 [==============================] - 268s 451ms/step - loss: 2.9363 - accuracy: 0.0522 - val_loss: 2.9359 - val_accuracy: 0.0545\n",
            "Training client 2\n",
            "Epoch 1/5\n",
            "600/600 [==============================] - 347s 578ms/step - loss: 2.9471 - accuracy: 0.0536 - val_loss: 2.9379 - val_accuracy: 0.0541\n",
            "Epoch 2/5\n",
            "600/600 [==============================] - 314s 524ms/step - loss: 2.9377 - accuracy: 0.0499 - val_loss: 2.9368 - val_accuracy: 0.0541\n",
            "Epoch 3/5\n",
            "600/600 [==============================] - 287s 478ms/step - loss: 2.9371 - accuracy: 0.0500 - val_loss: 2.9366 - val_accuracy: 0.0541\n",
            "Epoch 4/5\n",
            "600/600 [==============================] - 276s 460ms/step - loss: 2.9369 - accuracy: 0.0529 - val_loss: 2.9365 - val_accuracy: 0.0541\n",
            "Epoch 5/5\n",
            "600/600 [==============================] - 276s 460ms/step - loss: 2.9368 - accuracy: 0.0516 - val_loss: 2.9364 - val_accuracy: 0.0541\n",
            "Training client 3\n",
            "Epoch 1/5\n",
            "616/616 [==============================] - 350s 568ms/step - loss: 2.9564 - accuracy: 0.0524 - val_loss: 2.9448 - val_accuracy: 0.0526\n",
            "Epoch 2/5\n",
            "616/616 [==============================] - 327s 530ms/step - loss: 2.9449 - accuracy: 0.0509 - val_loss: 2.9445 - val_accuracy: 0.0526\n",
            "Epoch 3/5\n",
            "616/616 [==============================] - 295s 479ms/step - loss: 2.9448 - accuracy: 0.0508 - val_loss: 2.9445 - val_accuracy: 0.0526\n",
            "Epoch 4/5\n",
            "616/616 [==============================] - 281s 456ms/step - loss: 2.9448 - accuracy: 0.0498 - val_loss: 2.9445 - val_accuracy: 0.0526\n",
            "Epoch 5/5\n",
            "616/616 [==============================] - 289s 469ms/step - loss: 2.9448 - accuracy: 0.0496 - val_loss: 2.9444 - val_accuracy: 0.0526\n",
            "Training client 4\n",
            "Epoch 1/5\n",
            "611/611 [==============================] - 340s 556ms/step - loss: 2.9472 - accuracy: 0.0513 - val_loss: 2.9440 - val_accuracy: 0.0531\n",
            "Epoch 2/5\n",
            "611/611 [==============================] - 320s 524ms/step - loss: 2.9442 - accuracy: 0.0492 - val_loss: 2.9438 - val_accuracy: 0.0531\n",
            "Epoch 3/5\n",
            "611/611 [==============================] - 283s 463ms/step - loss: 2.9441 - accuracy: 0.0515 - val_loss: 2.9437 - val_accuracy: 0.0531\n",
            "Epoch 4/5\n",
            "611/611 [==============================] - 278s 455ms/step - loss: 2.9440 - accuracy: 0.0506 - val_loss: 2.9437 - val_accuracy: 0.0531\n"
          ]
        }
      ],
      "source": [
        "import numpy as np\n",
        "\n",
        "# Define number of communication rounds and hyperparameters grid\n",
        "num_rounds = 5\n",
        "hyperparameters_grid = {\n",
        "    'RR': [0.3, 0.5, 0.7],\n",
        "    'epochs': [5, 10]\n",
        "}\n",
        "\n",
        "def fed_wpr(client_models, RR):\n",
        "    new_weights_list = []\n",
        "    client_weights = [model.get_weights() for model in client_models]\n",
        "\n",
        "    for client_id in range(len(client_models)):\n",
        "        new_weights = []\n",
        "        for layer_weights in zip(*client_weights):\n",
        "            weighted_sum = np.zeros_like(layer_weights[0])\n",
        "            for j in range(len(client_models)):\n",
        "                weighted_sum += RR * layer_weights[j]\n",
        "            personalized_weights = (1 - RR) * layer_weights[client_id] + weighted_sum\n",
        "            new_weights.append(personalized_weights)\n",
        "        new_weights_list.append(new_weights)\n",
        "\n",
        "    return new_weights_list\n",
        "\n",
        "def train_and_evaluate(client_models, train_generators, test_generators, RR, epochs, num_rounds=10):\n",
        "    for round_num in range(num_rounds):\n",
        "        print(f'Round {round_num+1}/{num_rounds}')\n",
        "\n",
        "        for i in range(4):\n",
        "            print(f'Training client {i+1}')\n",
        "            client_models[i].fit(train_generators[i], epochs=epochs, validation_data=test_generators[i])\n",
        "\n",
        "        new_weights_list = fed_wpr(client_models, RR)\n",
        "\n",
        "        for i in range(4):\n",
        "            client_models[i].set_weights(new_weights_list[i])\n",
        "\n",
        "    avg_accuracy = 0\n",
        "    for i in range(4):\n",
        "        loss, accuracy = client_models[i].evaluate(test_generators[i])\n",
        "        avg_accuracy += accuracy\n",
        "        print(f'Client {i+1} - Loss: {loss}, Accuracy: {accuracy}')\n",
        "\n",
        "    avg_accuracy /= 4\n",
        "    return avg_accuracy\n",
        "\n",
        "def grid_search(hyperparameters_grid):\n",
        "    best_accuracy = 0\n",
        "    best_params = {}\n",
        "\n",
        "    for RR in hyperparameters_grid['RR']:\n",
        "        for epochs in hyperparameters_grid['epochs']:\n",
        "            print(f'Evaluating RR = {RR}, epochs = {epochs}')\n",
        "            client_models = [create_model(num_classes=19) for _ in range(4)]\n",
        "\n",
        "            avg_accuracy = train_and_evaluate(client_models, train_generators, test_generators, RR, epochs)\n",
        "\n",
        "            print(f'Average accuracy for RR = {RR}, epochs = {epochs}: {avg_accuracy}')\n",
        "\n",
        "            if avg_accuracy > best_accuracy:\n",
        "                best_accuracy = avg_accuracy\n",
        "                best_params = {'RR': RR, 'epochs': epochs}\n",
        "\n",
        "    return best_params, best_accuracy\n",
        "\n",
        "best_params, best_accuracy = grid_search(hyperparameters_grid)\n",
        "print(f'Best parameters: {best_params} with average accuracy: {best_accuracy}')\n"
      ]
    },
    {
      "cell_type": "code",
      "execution_count": null,
      "metadata": {
        "id": "zkpJ-RnaLWyL"
      },
      "outputs": [],
      "source": [
        "for i in range(4):\n",
        "    loss, accuracy = client_models[i].evaluate(test_generators[i])\n",
        "    print(f'Client {i+1} - Loss: {loss}, Accuracy: {accuracy}')"
      ]
    },
    {
      "cell_type": "code",
      "execution_count": null,
      "metadata": {
        "id": "GMU2rdA0E4sY"
      },
      "outputs": [],
      "source": []
    }
  ],
  "metadata": {
    "colab": {
      "provenance": [],
      "gpuType": "T4",
      "authorship_tag": "ABX9TyN/77sH08gUANKSOiNOXdIn",
      "include_colab_link": true
    },
    "kernelspec": {
      "display_name": "Python 3",
      "name": "python3"
    },
    "language_info": {
      "name": "python"
    },
    "accelerator": "GPU"
  },
  "nbformat": 4,
  "nbformat_minor": 0
}