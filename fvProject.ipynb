{
  "nbformat": 4,
  "nbformat_minor": 0,
  "metadata": {
    "colab": {
      "provenance": [],
      "gpuType": "T4",
      "authorship_tag": "ABX9TyN6Muv34VbAuoU6DyPXIHed",
      "include_colab_link": true
    },
    "kernelspec": {
      "name": "python3",
      "display_name": "Python 3"
    },
    "language_info": {
      "name": "python"
    },
    "accelerator": "GPU"
  },
  "cells": [
    {
      "cell_type": "markdown",
      "metadata": {
        "id": "view-in-github",
        "colab_type": "text"
      },
      "source": [
        "<a href=\"https://colab.research.google.com/github/shivangsingh26/FL-BC-BTP/blob/master/fvProject.ipynb\" target=\"_parent\"><img src=\"https://colab.research.google.com/assets/colab-badge.svg\" alt=\"Open In Colab\"/></a>"
      ]
    },
    {
      "cell_type": "code",
      "execution_count": null,
      "metadata": {
        "colab": {
          "base_uri": "https://localhost:8080/"
        },
        "id": "Y91GcZt3Jmww",
        "outputId": "73844d3f-fee4-493b-8613-2adfc4252b8b"
      },
      "outputs": [
        {
          "output_type": "stream",
          "name": "stdout",
          "text": [
            "Requirement already satisfied: tensorflow in /usr/local/lib/python3.10/dist-packages (2.15.0)\n",
            "Collecting federated\n",
            "  Downloading federated-0.0.1-py3-none-any.whl (2.2 kB)\n",
            "Requirement already satisfied: absl-py>=1.0.0 in /usr/local/lib/python3.10/dist-packages (from tensorflow) (1.4.0)\n",
            "Requirement already satisfied: astunparse>=1.6.0 in /usr/local/lib/python3.10/dist-packages (from tensorflow) (1.6.3)\n",
            "Requirement already satisfied: flatbuffers>=23.5.26 in /usr/local/lib/python3.10/dist-packages (from tensorflow) (24.3.25)\n",
            "Requirement already satisfied: gast!=0.5.0,!=0.5.1,!=0.5.2,>=0.2.1 in /usr/local/lib/python3.10/dist-packages (from tensorflow) (0.5.4)\n",
            "Requirement already satisfied: google-pasta>=0.1.1 in /usr/local/lib/python3.10/dist-packages (from tensorflow) (0.2.0)\n",
            "Requirement already satisfied: h5py>=2.9.0 in /usr/local/lib/python3.10/dist-packages (from tensorflow) (3.9.0)\n",
            "Requirement already satisfied: libclang>=13.0.0 in /usr/local/lib/python3.10/dist-packages (from tensorflow) (18.1.1)\n",
            "Requirement already satisfied: ml-dtypes~=0.2.0 in /usr/local/lib/python3.10/dist-packages (from tensorflow) (0.2.0)\n",
            "Requirement already satisfied: numpy<2.0.0,>=1.23.5 in /usr/local/lib/python3.10/dist-packages (from tensorflow) (1.25.2)\n",
            "Requirement already satisfied: opt-einsum>=2.3.2 in /usr/local/lib/python3.10/dist-packages (from tensorflow) (3.3.0)\n",
            "Requirement already satisfied: packaging in /usr/local/lib/python3.10/dist-packages (from tensorflow) (24.1)\n",
            "Requirement already satisfied: protobuf!=4.21.0,!=4.21.1,!=4.21.2,!=4.21.3,!=4.21.4,!=4.21.5,<5.0.0dev,>=3.20.3 in /usr/local/lib/python3.10/dist-packages (from tensorflow) (3.20.3)\n",
            "Requirement already satisfied: setuptools in /usr/local/lib/python3.10/dist-packages (from tensorflow) (67.7.2)\n",
            "Requirement already satisfied: six>=1.12.0 in /usr/local/lib/python3.10/dist-packages (from tensorflow) (1.16.0)\n",
            "Requirement already satisfied: termcolor>=1.1.0 in /usr/local/lib/python3.10/dist-packages (from tensorflow) (2.4.0)\n",
            "Requirement already satisfied: typing-extensions>=3.6.6 in /usr/local/lib/python3.10/dist-packages (from tensorflow) (4.12.2)\n",
            "Requirement already satisfied: wrapt<1.15,>=1.11.0 in /usr/local/lib/python3.10/dist-packages (from tensorflow) (1.14.1)\n",
            "Requirement already satisfied: tensorflow-io-gcs-filesystem>=0.23.1 in /usr/local/lib/python3.10/dist-packages (from tensorflow) (0.37.0)\n",
            "Requirement already satisfied: grpcio<2.0,>=1.24.3 in /usr/local/lib/python3.10/dist-packages (from tensorflow) (1.64.1)\n",
            "Requirement already satisfied: tensorboard<2.16,>=2.15 in /usr/local/lib/python3.10/dist-packages (from tensorflow) (2.15.2)\n",
            "Requirement already satisfied: tensorflow-estimator<2.16,>=2.15.0 in /usr/local/lib/python3.10/dist-packages (from tensorflow) (2.15.0)\n",
            "Requirement already satisfied: keras<2.16,>=2.15.0 in /usr/local/lib/python3.10/dist-packages (from tensorflow) (2.15.0)\n",
            "Requirement already satisfied: wheel<1.0,>=0.23.0 in /usr/local/lib/python3.10/dist-packages (from astunparse>=1.6.0->tensorflow) (0.43.0)\n",
            "Requirement already satisfied: google-auth<3,>=1.6.3 in /usr/local/lib/python3.10/dist-packages (from tensorboard<2.16,>=2.15->tensorflow) (2.27.0)\n",
            "Requirement already satisfied: google-auth-oauthlib<2,>=0.5 in /usr/local/lib/python3.10/dist-packages (from tensorboard<2.16,>=2.15->tensorflow) (1.2.0)\n",
            "Requirement already satisfied: markdown>=2.6.8 in /usr/local/lib/python3.10/dist-packages (from tensorboard<2.16,>=2.15->tensorflow) (3.6)\n",
            "Requirement already satisfied: requests<3,>=2.21.0 in /usr/local/lib/python3.10/dist-packages (from tensorboard<2.16,>=2.15->tensorflow) (2.31.0)\n",
            "Requirement already satisfied: tensorboard-data-server<0.8.0,>=0.7.0 in /usr/local/lib/python3.10/dist-packages (from tensorboard<2.16,>=2.15->tensorflow) (0.7.2)\n",
            "Requirement already satisfied: werkzeug>=1.0.1 in /usr/local/lib/python3.10/dist-packages (from tensorboard<2.16,>=2.15->tensorflow) (3.0.3)\n",
            "Requirement already satisfied: cachetools<6.0,>=2.0.0 in /usr/local/lib/python3.10/dist-packages (from google-auth<3,>=1.6.3->tensorboard<2.16,>=2.15->tensorflow) (5.3.3)\n",
            "Requirement already satisfied: pyasn1-modules>=0.2.1 in /usr/local/lib/python3.10/dist-packages (from google-auth<3,>=1.6.3->tensorboard<2.16,>=2.15->tensorflow) (0.4.0)\n",
            "Requirement already satisfied: rsa<5,>=3.1.4 in /usr/local/lib/python3.10/dist-packages (from google-auth<3,>=1.6.3->tensorboard<2.16,>=2.15->tensorflow) (4.9)\n",
            "Requirement already satisfied: requests-oauthlib>=0.7.0 in /usr/local/lib/python3.10/dist-packages (from google-auth-oauthlib<2,>=0.5->tensorboard<2.16,>=2.15->tensorflow) (1.3.1)\n",
            "Requirement already satisfied: charset-normalizer<4,>=2 in /usr/local/lib/python3.10/dist-packages (from requests<3,>=2.21.0->tensorboard<2.16,>=2.15->tensorflow) (3.3.2)\n",
            "Requirement already satisfied: idna<4,>=2.5 in /usr/local/lib/python3.10/dist-packages (from requests<3,>=2.21.0->tensorboard<2.16,>=2.15->tensorflow) (3.7)\n",
            "Requirement already satisfied: urllib3<3,>=1.21.1 in /usr/local/lib/python3.10/dist-packages (from requests<3,>=2.21.0->tensorboard<2.16,>=2.15->tensorflow) (2.0.7)\n",
            "Requirement already satisfied: certifi>=2017.4.17 in /usr/local/lib/python3.10/dist-packages (from requests<3,>=2.21.0->tensorboard<2.16,>=2.15->tensorflow) (2024.6.2)\n",
            "Requirement already satisfied: MarkupSafe>=2.1.1 in /usr/local/lib/python3.10/dist-packages (from werkzeug>=1.0.1->tensorboard<2.16,>=2.15->tensorflow) (2.1.5)\n",
            "Requirement already satisfied: pyasn1<0.7.0,>=0.4.6 in /usr/local/lib/python3.10/dist-packages (from pyasn1-modules>=0.2.1->google-auth<3,>=1.6.3->tensorboard<2.16,>=2.15->tensorflow) (0.6.0)\n",
            "Requirement already satisfied: oauthlib>=3.0.0 in /usr/local/lib/python3.10/dist-packages (from requests-oauthlib>=0.7.0->google-auth-oauthlib<2,>=0.5->tensorboard<2.16,>=2.15->tensorflow) (3.2.2)\n",
            "Installing collected packages: federated\n",
            "Successfully installed federated-0.0.1\n",
            "Requirement already satisfied: gdown in /usr/local/lib/python3.10/dist-packages (5.1.0)\n",
            "Requirement already satisfied: beautifulsoup4 in /usr/local/lib/python3.10/dist-packages (from gdown) (4.12.3)\n",
            "Requirement already satisfied: filelock in /usr/local/lib/python3.10/dist-packages (from gdown) (3.14.0)\n",
            "Requirement already satisfied: requests[socks] in /usr/local/lib/python3.10/dist-packages (from gdown) (2.31.0)\n",
            "Requirement already satisfied: tqdm in /usr/local/lib/python3.10/dist-packages (from gdown) (4.66.4)\n",
            "Requirement already satisfied: soupsieve>1.2 in /usr/local/lib/python3.10/dist-packages (from beautifulsoup4->gdown) (2.5)\n",
            "Requirement already satisfied: charset-normalizer<4,>=2 in /usr/local/lib/python3.10/dist-packages (from requests[socks]->gdown) (3.3.2)\n",
            "Requirement already satisfied: idna<4,>=2.5 in /usr/local/lib/python3.10/dist-packages (from requests[socks]->gdown) (3.7)\n",
            "Requirement already satisfied: urllib3<3,>=1.21.1 in /usr/local/lib/python3.10/dist-packages (from requests[socks]->gdown) (2.0.7)\n",
            "Requirement already satisfied: certifi>=2017.4.17 in /usr/local/lib/python3.10/dist-packages (from requests[socks]->gdown) (2024.6.2)\n",
            "Requirement already satisfied: PySocks!=1.5.7,>=1.5.6 in /usr/local/lib/python3.10/dist-packages (from requests[socks]->gdown) (1.7.1)\n"
          ]
        }
      ],
      "source": [
        "!pip install tensorflow federated\n",
        "!pip install gdown"
      ]
    },
    {
      "cell_type": "code",
      "source": [
        "from google.colab import drive\n",
        "drive.mount('/content/drive')\n",
        "\n",
        "import os\n",
        "import zipfile\n",
        "\n",
        "# Unzip the datasets\n",
        "zip_path = '/content/drive/My Drive/BTP.zip'\n",
        "unzip_path = '/content/datasets'\n",
        "with zipfile.ZipFile(zip_path, 'r') as zip_ref:\n",
        "    zip_ref.extractall(unzip_path)\n"
      ],
      "metadata": {
        "colab": {
          "base_uri": "https://localhost:8080/"
        },
        "id": "-bYVUKghKEeP",
        "outputId": "72d5af0c-d678-46dd-f266-dbf654d2799b"
      },
      "execution_count": 1,
      "outputs": [
        {
          "output_type": "stream",
          "name": "stdout",
          "text": [
            "Mounted at /content/drive\n"
          ]
        }
      ]
    },
    {
      "cell_type": "code",
      "source": [
        "import tensorflow as tf\n",
        "from tensorflow.keras.preprocessing.image import ImageDataGenerator\n",
        "\n",
        "def load_data(client_path):\n",
        "    train_datagen = ImageDataGenerator(rescale=1./255)\n",
        "    test_datagen = ImageDataGenerator(rescale=1./255)\n",
        "\n",
        "    train_generator = train_datagen.flow_from_directory(\n",
        "        os.path.join(client_path, 'train'),\n",
        "        target_size=(224, 224),\n",
        "        batch_size=32,\n",
        "        class_mode='categorical'\n",
        "    )\n",
        "\n",
        "    test_generator = test_datagen.flow_from_directory(\n",
        "        os.path.join(client_path, 'test'),\n",
        "        target_size=(224, 224),\n",
        "        batch_size=32,\n",
        "        class_mode='categorical'\n",
        "    )\n",
        "\n",
        "    return train_generator, test_generator\n",
        "\n",
        "clients = ['/content/datasets/Non-iid datasets/non_iid_subset_1','/content/datasets/Non-iid datasets/non_iid_subset_2','/content/datasets/Non-iid datasets/non_iid_subset_3','/content/datasets/Non-iid datasets/non_iid_subset_4',]\n",
        "data_paths = [os.path.join(unzip_path, client) for client in clients]\n",
        "\n",
        "train_generators = []\n",
        "test_generators = []\n",
        "for path in data_paths:\n",
        "    train_gen, test_gen = load_data(path)\n",
        "    train_generators.append(train_gen)\n",
        "    test_generators.append(test_gen)"
      ],
      "metadata": {
        "colab": {
          "base_uri": "https://localhost:8080/"
        },
        "id": "qUrFEeapKcTJ",
        "outputId": "efd35bd5-0677-4381-b359-25200df3a901"
      },
      "execution_count": 2,
      "outputs": [
        {
          "output_type": "stream",
          "name": "stdout",
          "text": [
            "Found 19012 images belonging to 19 classes.\n",
            "Found 4748 images belonging to 19 classes.\n",
            "Found 19185 images belonging to 19 classes.\n",
            "Found 4791 images belonging to 19 classes.\n",
            "Found 19703 images belonging to 19 classes.\n",
            "Found 4921 images belonging to 19 classes.\n",
            "Found 19530 images belonging to 19 classes.\n",
            "Found 4878 images belonging to 19 classes.\n"
          ]
        }
      ]
    },
    {
      "cell_type": "code",
      "source": [
        "def create_model(num_classes=19):\n",
        "    base_model = tf.keras.applications.MobileNetV2(input_shape=(224, 224, 3),\n",
        "                                                   include_top=False,\n",
        "                                                   weights='imagenet')\n",
        "    base_model.trainable = False\n",
        "\n",
        "    model = tf.keras.Sequential([\n",
        "        base_model,\n",
        "        tf.keras.layers.GlobalAveragePooling2D(),\n",
        "        tf.keras.layers.Dense(1024, activation='relu'),\n",
        "        tf.keras.layers.Dense(num_classes, activation='softmax')\n",
        "    ])\n",
        "\n",
        "    model.compile(optimizer='adam',\n",
        "                  loss='categorical_crossentropy',\n",
        "                  metrics=['accuracy'])\n",
        "\n",
        "    return model\n"
      ],
      "metadata": {
        "id": "25fFqH7-K0_f"
      },
      "execution_count": 3,
      "outputs": []
    },
    {
      "cell_type": "code",
      "source": [
        "import numpy as np\n",
        "\n",
        "# Define number of communication rounds and RR ratio\n",
        "num_rounds = 15\n",
        "RR = 0.5  # Example value for RR\n",
        "\n",
        "# Initialize models for each client\n",
        "client_models = [create_model(num_classes=19) for _ in range(4)]\n",
        "\n",
        "# Function to perform the FedWPR aggregation\n",
        "def fed_wpr(client_models, RR):\n",
        "    new_weights_list = []\n",
        "\n",
        "    # Get the weights from each client model\n",
        "    client_weights = [model.get_weights() for model in client_models]\n",
        "\n",
        "    # Initialize new weights for each client model\n",
        "    for client_id in range(len(client_models)):\n",
        "        new_weights = []\n",
        "        for layer_weights in zip(*client_weights):\n",
        "            weighted_sum = np.sum([w * RR for w in layer_weights], axis=0)\n",
        "            personalized_weights = (1 - RR) * layer_weights[client_id] + weighted_sum\n",
        "            new_weights.append(personalized_weights)\n",
        "        new_weights_list.append(new_weights)\n",
        "\n",
        "    return new_weights_list\n",
        "\n",
        "for round_num in range(num_rounds):\n",
        "    print(f'Round {round_num+1}/{num_rounds}')\n",
        "\n",
        "    # Train each client model on its local data\n",
        "    for i in range(4):\n",
        "        print(f'Training client {i+1}')\n",
        "        client_models[i].fit(train_generators[i], epochs=1, validation_data=test_generators[i])\n",
        "\n",
        "    # Perform FedWPR aggregation\n",
        "    new_weights_list = fed_wpr(client_models, RR)\n",
        "\n",
        "    # Update each client model with its personalized weights\n",
        "    for i in range(4):\n",
        "        client_models[i].set_weights(new_weights_list[i])\n"
      ],
      "metadata": {
        "colab": {
          "base_uri": "https://localhost:8080/"
        },
        "id": "fuj1zUnqK4nx",
        "outputId": "0d4874e4-08d7-4df1-f646-d7875baf912c"
      },
      "execution_count": 4,
      "outputs": [
        {
          "output_type": "stream",
          "name": "stdout",
          "text": [
            "Downloading data from https://storage.googleapis.com/tensorflow/keras-applications/mobilenet_v2/mobilenet_v2_weights_tf_dim_ordering_tf_kernels_1.0_224_no_top.h5\n",
            "9406464/9406464 [==============================] - 0s 0us/step\n",
            "Round 1/15\n",
            "Training client 1\n",
            "595/595 [==============================] - 97s 152ms/step - loss: 0.7224 - accuracy: 0.7839 - val_loss: 0.2592 - val_accuracy: 0.9265\n",
            "Training client 2\n",
            "600/600 [==============================] - 96s 153ms/step - loss: 0.5435 - accuracy: 0.8453 - val_loss: 0.1467 - val_accuracy: 0.9616\n",
            "Training client 3\n",
            "616/616 [==============================] - 95s 148ms/step - loss: 0.6839 - accuracy: 0.8011 - val_loss: 0.2306 - val_accuracy: 0.9329\n",
            "Training client 4\n",
            "611/611 [==============================] - 98s 154ms/step - loss: 0.6558 - accuracy: 0.8086 - val_loss: 0.2275 - val_accuracy: 0.9330\n",
            "Round 2/15\n",
            "Training client 1\n",
            "595/595 [==============================] - 88s 147ms/step - loss: 2.9855 - accuracy: 0.0537 - val_loss: 2.9378 - val_accuracy: 0.0545\n",
            "Training client 2\n",
            "600/600 [==============================] - 86s 143ms/step - loss: 2.9881 - accuracy: 0.0550 - val_loss: 2.9383 - val_accuracy: 0.0536\n",
            "Training client 3\n",
            "616/616 [==============================] - 91s 147ms/step - loss: 3.0254 - accuracy: 0.0518 - val_loss: 2.9445 - val_accuracy: 0.0528\n",
            "Training client 4\n",
            "611/611 [==============================] - 92s 151ms/step - loss: 3.0083 - accuracy: 0.0513 - val_loss: 2.9439 - val_accuracy: 0.0529\n",
            "Round 3/15\n",
            "Training client 1\n",
            "595/595 [==============================] - 93s 156ms/step - loss: 2.9374 - accuracy: 0.0519 - val_loss: 2.9358 - val_accuracy: 0.0552\n",
            "Training client 2\n",
            "600/600 [==============================] - 88s 146ms/step - loss: 2.9377 - accuracy: 0.0510 - val_loss: 2.9366 - val_accuracy: 0.0541\n",
            "Training client 3\n",
            "616/616 [==============================] - 89s 145ms/step - loss: 2.9465 - accuracy: 0.0499 - val_loss: 2.9442 - val_accuracy: 0.0522\n",
            "Training client 4\n",
            "611/611 [==============================] - 90s 147ms/step - loss: 2.9460 - accuracy: 0.0521 - val_loss: 2.9444 - val_accuracy: 0.0531\n",
            "Round 4/15\n",
            "Training client 1\n",
            "595/595 [==============================] - 87s 147ms/step - loss: 2.9376 - accuracy: 0.0511 - val_loss: 2.9365 - val_accuracy: 0.0545\n",
            "Training client 2\n",
            "600/600 [==============================] - 88s 146ms/step - loss: 2.9383 - accuracy: 0.0528 - val_loss: 2.9372 - val_accuracy: 0.0541\n",
            "Training client 3\n",
            "616/616 [==============================] - 89s 145ms/step - loss: 2.9535 - accuracy: 0.0502 - val_loss: 2.9494 - val_accuracy: 0.0526\n",
            "Training client 4\n",
            "611/611 [==============================] - 88s 144ms/step - loss: 2.9529 - accuracy: 0.0503 - val_loss: 2.9482 - val_accuracy: 0.0531\n",
            "Round 5/15\n",
            "Training client 1\n",
            "595/595 [==============================] - 85s 143ms/step - loss: 2.9482 - accuracy: 0.0523 - val_loss: 2.9425 - val_accuracy: 0.0545\n",
            "Training client 2\n",
            "600/600 [==============================] - 87s 145ms/step - loss: 2.9474 - accuracy: 0.0493 - val_loss: 2.9431 - val_accuracy: 0.0541\n",
            "Training client 3\n",
            "616/616 [==============================] - 90s 146ms/step - loss: 2.9782 - accuracy: 0.0504 - val_loss: 2.9652 - val_accuracy: 0.0526\n",
            "Training client 4\n",
            "611/611 [==============================] - 89s 145ms/step - loss: 2.9757 - accuracy: 0.0505 - val_loss: 2.9659 - val_accuracy: 0.0531\n",
            "Round 6/15\n",
            "Training client 1\n",
            "595/595 [==============================] - 86s 144ms/step - loss: 2.9776 - accuracy: 0.0523 - val_loss: 2.9807 - val_accuracy: 0.0548\n",
            "Training client 2\n",
            "600/600 [==============================] - 87s 145ms/step - loss: 2.9872 - accuracy: 0.0521 - val_loss: 2.9700 - val_accuracy: 0.0541\n",
            "Training client 3\n",
            "616/616 [==============================] - 89s 145ms/step - loss: 3.0497 - accuracy: 0.0495 - val_loss: 3.0251 - val_accuracy: 0.0526\n",
            "Training client 4\n",
            "611/611 [==============================] - 88s 144ms/step - loss: 3.0484 - accuracy: 0.0495 - val_loss: 3.0243 - val_accuracy: 0.0531\n",
            "Round 7/15\n",
            "Training client 1\n",
            "595/595 [==============================] - 90s 151ms/step - loss: 3.4450 - accuracy: 0.0533 - val_loss: 3.0693 - val_accuracy: 0.0545\n",
            "Training client 2\n",
            "600/600 [==============================] - 88s 147ms/step - loss: 3.5840 - accuracy: 0.0523 - val_loss: 3.0982 - val_accuracy: 0.0541\n",
            "Training client 3\n",
            "616/616 [==============================] - 88s 143ms/step - loss: 3.8111 - accuracy: 0.0512 - val_loss: 3.2279 - val_accuracy: 0.0528\n",
            "Training client 4\n",
            "611/611 [==============================] - 89s 146ms/step - loss: 3.5229 - accuracy: 0.0511 - val_loss: 3.2221 - val_accuracy: 0.0533\n",
            "Round 8/15\n",
            "Training client 1\n",
            "595/595 [==============================] - 85s 143ms/step - loss: 7.3789 - accuracy: 0.0537 - val_loss: 4.5494 - val_accuracy: 0.0548\n",
            "Training client 2\n",
            "600/600 [==============================] - 88s 146ms/step - loss: 5.8391 - accuracy: 0.0530 - val_loss: 3.8502 - val_accuracy: 0.0541\n",
            "Training client 3\n",
            "616/616 [==============================] - 91s 147ms/step - loss: 7.1895 - accuracy: 0.0518 - val_loss: 4.2881 - val_accuracy: 0.0526\n",
            "Training client 4\n",
            "611/611 [==============================] - 89s 145ms/step - loss: 6.2321 - accuracy: 0.0515 - val_loss: 5.2706 - val_accuracy: 0.0527\n",
            "Round 9/15\n",
            "Training client 1\n",
            "595/595 [==============================] - 91s 152ms/step - loss: 5.1032 - accuracy: 0.0546 - val_loss: 3.8676 - val_accuracy: 0.0545\n",
            "Training client 2\n",
            "600/600 [==============================] - 90s 150ms/step - loss: 4.9529 - accuracy: 0.0510 - val_loss: 5.4197 - val_accuracy: 0.0541\n",
            "Training client 3\n",
            "616/616 [==============================] - 88s 142ms/step - loss: 4.9775 - accuracy: 0.0513 - val_loss: 4.9327 - val_accuracy: 0.0526\n",
            "Training client 4\n",
            "611/611 [==============================] - 89s 145ms/step - loss: 4.8821 - accuracy: 0.0512 - val_loss: 6.8913 - val_accuracy: 0.0531\n",
            "Round 10/15\n",
            "Training client 1\n",
            "595/595 [==============================] - 89s 149ms/step - loss: 56.5844 - accuracy: 0.0518 - val_loss: 34.8900 - val_accuracy: 0.0543\n",
            "Training client 2\n",
            "600/600 [==============================] - 92s 154ms/step - loss: 14.2880 - accuracy: 0.0527 - val_loss: 22.3105 - val_accuracy: 0.0541\n",
            "Training client 3\n",
            "616/616 [==============================] - 93s 151ms/step - loss: 93.8686 - accuracy: 0.0484 - val_loss: 38.9407 - val_accuracy: 0.0526\n",
            "Training client 4\n",
            "611/611 [==============================] - 92s 151ms/step - loss: 48.9603 - accuracy: 0.0494 - val_loss: 60.3512 - val_accuracy: 0.0531\n",
            "Round 11/15\n",
            "Training client 1\n",
            "595/595 [==============================] - 92s 154ms/step - loss: 7971.6499 - accuracy: 0.0527 - val_loss: 5604.9663 - val_accuracy: 0.0554\n",
            "Training client 2\n",
            "600/600 [==============================] - 90s 150ms/step - loss: 7837.0225 - accuracy: 0.0538 - val_loss: 8071.6611 - val_accuracy: 0.0541\n",
            "Training client 3\n",
            "616/616 [==============================] - 92s 150ms/step - loss: 7776.7632 - accuracy: 0.0503 - val_loss: 6213.4365 - val_accuracy: 0.0520\n",
            "Training client 4\n",
            "611/611 [==============================] - 96s 156ms/step - loss: 8272.9961 - accuracy: 0.0508 - val_loss: 7196.6304 - val_accuracy: 0.0523\n",
            "Round 12/15\n",
            "Training client 1\n",
            "595/595 [==============================] - 93s 157ms/step - loss: 31009.0840 - accuracy: 0.0534 - val_loss: 15794.0576 - val_accuracy: 0.0545\n",
            "Training client 2\n",
            "600/600 [==============================] - 93s 154ms/step - loss: 31429.4434 - accuracy: 0.0524 - val_loss: 30971.8184 - val_accuracy: 0.0541\n",
            "Training client 3\n",
            "616/616 [==============================] - 94s 152ms/step - loss: 30640.4863 - accuracy: 0.0496 - val_loss: 30157.2617 - val_accuracy: 0.0528\n",
            "Training client 4\n",
            "611/611 [==============================] - 91s 149ms/step - loss: 29915.8965 - accuracy: 0.0501 - val_loss: 29173.9922 - val_accuracy: 0.0531\n",
            "Round 13/15\n",
            "Training client 1\n",
            "595/595 [==============================] - 88s 149ms/step - loss: 162826.8438 - accuracy: 0.0543 - val_loss: 182864.5938 - val_accuracy: 0.0548\n",
            "Training client 2\n",
            "600/600 [==============================] - 91s 151ms/step - loss: 197914.8906 - accuracy: 0.0526 - val_loss: 191127.2188 - val_accuracy: 0.0539\n",
            "Training client 3\n",
            "616/616 [==============================] - 92s 150ms/step - loss: 146773.3594 - accuracy: 0.0507 - val_loss: 177433.1094 - val_accuracy: 0.0520\n",
            "Training client 4\n",
            "611/611 [==============================] - 93s 151ms/step - loss: 135184.0469 - accuracy: 0.0529 - val_loss: 165794.6094 - val_accuracy: 0.0531\n",
            "Round 14/15\n",
            "Training client 1\n",
            "595/595 [==============================] - 91s 152ms/step - loss: 1315342.3750 - accuracy: 0.0551 - val_loss: 1366995.8750 - val_accuracy: 0.0550\n",
            "Training client 2\n",
            "600/600 [==============================] - 94s 157ms/step - loss: 1957604.8750 - accuracy: 0.0517 - val_loss: 1797622.8750 - val_accuracy: 0.0534\n",
            "Training client 3\n",
            "616/616 [==============================] - 93s 151ms/step - loss: 1705750.8750 - accuracy: 0.0522 - val_loss: 1540644.2500 - val_accuracy: 0.0526\n",
            "Training client 4\n",
            "611/611 [==============================] - 95s 155ms/step - loss: 1187453.0000 - accuracy: 0.0530 - val_loss: 1832797.2500 - val_accuracy: 0.0529\n",
            "Round 15/15\n",
            "Training client 1\n",
            "595/595 [==============================] - 93s 156ms/step - loss: 120866.4297 - accuracy: 0.0537 - val_loss: 481599.5625 - val_accuracy: 0.0545\n",
            "Training client 2\n",
            "600/600 [==============================] - 93s 155ms/step - loss: 257529.9219 - accuracy: 0.0540 - val_loss: 251804.4531 - val_accuracy: 0.0541\n",
            "Training client 3\n",
            "616/616 [==============================] - 99s 160ms/step - loss: 250544.3125 - accuracy: 0.0514 - val_loss: 70267.9375 - val_accuracy: 0.0526\n",
            "Training client 4\n",
            "611/611 [==============================] - 92s 150ms/step - loss: 134009.6875 - accuracy: 0.0523 - val_loss: 214243.5781 - val_accuracy: 0.0531\n"
          ]
        }
      ]
    },
    {
      "cell_type": "code",
      "source": [
        "for i in range(4):\n",
        "    loss, accuracy = client_models[i].evaluate(test_generators[i])\n",
        "    print(f'Client {i+1} - Loss: {loss}, Accuracy: {accuracy}')"
      ],
      "metadata": {
        "colab": {
          "base_uri": "https://localhost:8080/"
        },
        "id": "zkpJ-RnaLWyL",
        "outputId": "fac7f882-962e-49e0-ef5c-22a9978f269e"
      },
      "execution_count": 5,
      "outputs": [
        {
          "output_type": "stream",
          "name": "stdout",
          "text": [
            "149/149 [==============================] - 18s 120ms/step - loss: 594.4900 - accuracy: 0.0545\n",
            "Client 1 - Loss: 594.489990234375, Accuracy: 0.054549284279346466\n",
            "150/150 [==============================] - 17s 115ms/step - loss: 1757352.0000 - accuracy: 0.0539\n",
            "Client 2 - Loss: 1757352.0, Accuracy: 0.05385097116231918\n",
            "154/154 [==============================] - 21s 138ms/step - loss: 1144.0861 - accuracy: 0.0526\n",
            "Client 3 - Loss: 1144.0860595703125, Accuracy: 0.05263157933950424\n",
            "153/153 [==============================] - 10s 66ms/step - loss: 1153.7388 - accuracy: 0.0531\n",
            "Client 4 - Loss: 1153.73876953125, Accuracy: 0.05309553071856499\n"
          ]
        }
      ]
    },
    {
      "cell_type": "code",
      "source": [],
      "metadata": {
        "id": "GMU2rdA0E4sY"
      },
      "execution_count": null,
      "outputs": []
    }
  ]
}