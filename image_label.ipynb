{
 "cells": [
  {
   "cell_type": "code",
   "execution_count": 5,
   "id": "initial_id",
   "metadata": {
    "collapsed": true,
    "ExecuteTime": {
     "end_time": "2024-01-28T20:25:37.143847500Z",
     "start_time": "2024-01-28T20:25:37.116655100Z"
    }
   },
   "outputs": [
    {
     "ename": "TypeError",
     "evalue": "unhashable type: 'list'",
     "output_type": "error",
     "traceback": [
      "\u001B[1;31m---------------------------------------------------------------------------\u001B[0m",
      "\u001B[1;31mTypeError\u001B[0m                                 Traceback (most recent call last)",
      "Cell \u001B[1;32mIn[5], line 17\u001B[0m\n\u001B[0;32m     15\u001B[0m \u001B[38;5;28;01mfor\u001B[39;00m filename \u001B[38;5;129;01min\u001B[39;00m image_files:\n\u001B[0;32m     16\u001B[0m     class_label \u001B[38;5;241m=\u001B[39m filename\u001B[38;5;241m.\u001B[39msplit(\u001B[38;5;124m'\u001B[39m\u001B[38;5;124m_\u001B[39m\u001B[38;5;124m'\u001B[39m)[:\u001B[38;5;241m5\u001B[39m]  \u001B[38;5;66;03m# Extract class label\u001B[39;00m\n\u001B[1;32m---> 17\u001B[0m     class_images\u001B[38;5;241m.\u001B[39msetdefault(class_label, [])\u001B[38;5;241m.\u001B[39mappend(filename)\n\u001B[0;32m     19\u001B[0m \u001B[38;5;66;03m# Create a DataFrame to store the results\u001B[39;00m\n\u001B[0;32m     20\u001B[0m data \u001B[38;5;241m=\u001B[39m {\u001B[38;5;124m\"\u001B[39m\u001B[38;5;124mImage_Path\u001B[39m\u001B[38;5;124m\"\u001B[39m: [], \u001B[38;5;124m\"\u001B[39m\u001B[38;5;124mClass\u001B[39m\u001B[38;5;124m\"\u001B[39m: []}\n",
      "\u001B[1;31mTypeError\u001B[0m: unhashable type: 'list'"
     ]
    }
   ],
   "source": [
    "import os\n",
    "import shutil\n",
    "import pandas as pd\n",
    "\n",
    "# Define the path to your images folder\n",
    "images_folder = \"drive-download-20240118T204013Z-001/casiav3left3\"\n",
    "\n",
    "# Create a dictionary to store image paths for each class\n",
    "class_images = {}\n",
    "\n",
    "# List all image files in the folder\n",
    "image_files = [file for file in os.listdir(images_folder) if file.endswith((\".jpg\", \".bmp\" , \".png\"))]\n",
    "\n",
    "# Organize images based on class labels\n",
    "for filename in image_files:\n",
    "    class_label = filename.split('_')[:5]  # Extract class label\n",
    "    class_images.setdefault(class_label, []).append(filename)\n",
    "\n",
    "# Create a DataFrame to store the results\n",
    "data = {\"Image_Path\": [], \"Class\": []}\n",
    "\n",
    "# Create directories for each class and populate the DataFrame\n",
    "for class_label, filenames in class_images.items():\n",
    "    class_folder = os.path.join(images_folder, class_label)\n",
    "    os.makedirs(class_folder, exist_ok=True)\n",
    "\n",
    "    # Move images to their corresponding class folders and update the DataFrame\n",
    "    for filename in filenames:\n",
    "        source_path = os.path.join(images_folder, filename)\n",
    "        destination_path = os.path.join(class_folder, filename)\n",
    "        shutil.move(source_path, destination_path)\n",
    "\n",
    "        # Append the information to the DataFrame\n",
    "        data[\"Image_Path\"].append(destination_path)\n",
    "        data[\"Class\"].append(class_label)\n",
    "\n",
    "# Save the DataFrame to a CSV file\n",
    "result_df = pd.DataFrame(data)\n",
    "result_df.to_csv(\"labels.csv\", index=False)\n",
    "\n",
    "# Print the organization summary\n",
    "for class_label, filenames in class_images.items():\n",
    "    print(f\"Class: {class_label}, Number of Images: {len(filenames)}\")\n"
   ]
  },
  {
   "cell_type": "code",
   "execution_count": null,
   "outputs": [],
   "source": [],
   "metadata": {
    "collapsed": false
   },
   "id": "90d7b8a18122c28d"
  }
 ],
 "metadata": {
  "kernelspec": {
   "display_name": "Python 3",
   "language": "python",
   "name": "python3"
  },
  "language_info": {
   "codemirror_mode": {
    "name": "ipython",
    "version": 2
   },
   "file_extension": ".py",
   "mimetype": "text/x-python",
   "name": "python",
   "nbconvert_exporter": "python",
   "pygments_lexer": "ipython2",
   "version": "2.7.6"
  }
 },
 "nbformat": 4,
 "nbformat_minor": 5
}
